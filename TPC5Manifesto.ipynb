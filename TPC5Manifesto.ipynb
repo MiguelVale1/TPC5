{
 "cells": [
  {
   "cell_type": "markdown",
   "metadata": {},
   "source": [
    "# Manifesto"
   ]
  },
  {
   "cell_type": "markdown",
   "metadata": {},
   "source": [
    "* Identificador: TPC5\n",
    "* Título: Polinómios\n",
    "* Data início:2021-11-13\n",
    "* Data fim:2021-11-14\n",
    "* Supervisor: José Carlos Ramalho, https://www.di.uminho.pt/~jcr/thesup-v2.php\n",
    "* Autor: Miguel Borges de Araújo Carvalho do Vale, A95524\n",
    "* Resumo: Este trabalho foi realizado a partir da linguagem de programação python. A função do trabalho é testar a capacidade do aluno na criação de um programa, que tenha implementado um menu interativo, tendo este que incluir um conjunto de funções, que concretizem os objetivos do trabalho, sendo estes, a criação de um polinómio e a manipulação do mesmo para calcular e apresentar o valor resultante para um certo valor de x, para um conjunto de valores de x, a simplificação do polinómio e o cálculo da derivada do mesmo.<br>A organização geraldo código, serve para repetir a ocorrência do menu a partir de um ciclo while, com uma variável boolean para terminar este se a pessoa desejar. Dependendo da alínea escolhida a partir do menu, diferentes funções serão chamadas, todas as funções têm a mesma organização, lendo os valores do coeficiente e expoente dos diferentes termos, calculando os valores necessários e escrevendo de forma como prevista o polinómio."
   ]
  },
  {
   "cell_type": "code",
   "execution_count": null,
   "metadata": {},
   "outputs": [],
   "source": []
  }
 ],
 "metadata": {
  "kernelspec": {
   "display_name": "Python 3",
   "language": "python",
   "name": "python3"
  },
  "language_info": {
   "codemirror_mode": {
    "name": "ipython",
    "version": 3
   },
   "file_extension": ".py",
   "mimetype": "text/x-python",
   "name": "python",
   "nbconvert_exporter": "python",
   "pygments_lexer": "ipython3",
   "version": "3.8.3"
  }
 },
 "nbformat": 4,
 "nbformat_minor": 4
}
